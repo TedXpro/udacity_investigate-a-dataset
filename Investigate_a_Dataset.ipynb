{
 "cells": [
  {
   "cell_type": "markdown",
   "metadata": {},
   "source": [
    "# Project: Investigate a Dataset - No-show appointments\n",
    "\n",
    "## Table of Contents\n",
    "<ul>\n",
    "<li><a href=\"#intro\">Introduction</a></li>\n",
    "<li><a href=\"#wrangling\">Data Wrangling</a></li>\n",
    "<li><a href=\"#eda\">Exploratory Data Analysis</a></li>\n",
    "<li><a href=\"#conclusions\">Conclusions</a></li>\n",
    "</ul>"
   ]
  },
  {
   "cell_type": "markdown",
   "metadata": {},
   "source": [
    "<a id='intro'></a>\n",
    "## Introduction\n",
    "\n",
    "### Dataset Description \n",
    "\n",
    "This dataset is from [Kagle](https://www.kaggle.com/datasets/joniarroba/noshowappointments). Here is the information (sometimes modified and updated) from Kagle site and [Dataset Options Page](https://s3.amazonaws.com/video.udacity-data.com/topher/2018/July/5b57919a_data-set-options/data-set-options.pdf). \n",
    "> This dataset collects information from ~110K medical appointments in Brazil and is focused on the question of whether or not patients show up for their appointment. A number of characteristics about the patient are included in each row. \n",
    "\n",
    "\n",
    ">|Field Name | Description |\n",
    "|----|----|\n",
    "|PatientId | Identification of a patient|\n",
    "|AppointmentID | Identification of each appointment|\n",
    "|Gender | Male or Female. Female is the greater proportion, woman takes way more care of they health in comparison to man.|\n",
    "|AppointmentDay | The day of the actuall appointment, when they have to visit the doctor.|\n",
    "|ScheduledDay | The day someone called or registered the appointment, this is before appointment of course.\n",
    "|Age|How old is the patient.|\n",
    "|Neighbourhood | Where the appointment takes place.|\n",
    "|Scholarship | True of False represented as 1 or 0 respectively. Observation, this is a broad topic, consider reading this article https://en.wikipedia.org/wiki/Bolsa_Fam%C3%ADlia |\n",
    "|Hipertension | True or False represented as 1 or 0 respectively|\n",
    "|Diabetes | True or False represented as 1 or 0 respectively|\n",
    "|Alcoholism | True or False represented as 1 or 0 respectively|\n",
    "|Handcap | True or False represented as 1 or 0 respectively|\n",
    "|SMS_received | 1 or more messages sent to the patient. True or False represented as 1 or 0 respectively|\n",
    "|No-show | True or False represented as Yes or No. Notice that  it says ‘No’ if the patient showed up to their appointment, and ‘Yes’ if they did not show up (missed it).|\n",
    "\n",
    "\n",
    "### Question(s) for Analysis\n",
    "These are the questions to analyze:\n",
    "1. Does sending SMS affect showup rate for the appointment? \n",
    "> By asking this, we will analyze if show up rate is better for those who received SMS notifications.  \n",
    "2. Which age group showed up the most? \n",
    "> By asking this, we will see how the show up rate looks for different age groups.  "
   ]
  },
  {
   "cell_type": "code",
   "execution_count": 1,
   "metadata": {},
   "outputs": [],
   "source": [
    "# Imports\n",
    "import numpy as np\n",
    "import pandas as pd\n",
    "import matplotlib.pyplot as plt\n",
    "import seaborn as sns\n",
    "\n",
    "# Add'magic word' so that visualizations are plotted\n",
    "# inline with the notebook. See this page for more:\n",
    "# http://ipython.readthedocs.io/en/stable/interactive/magics.html\n",
    "%matplotlib inline"
   ]
  },
  {
   "cell_type": "code",
   "execution_count": 2,
   "metadata": {},
   "outputs": [],
   "source": [
    "# This line existed on the template. Going to leave this cell undeleted! \n",
    "\n",
    "# Running this cell caused an exception in the df.head(). \n",
    "# Checking online the exception, I found this answer: \n",
    "# https://github.com/pandas-dev/pandas/issues/26171#issuecomment-517222995\n",
    "# Hence, ignoring this line with a comment. \n",
    "\n",
    "# Upgrade pandas to use dataframe.explode() function. \n",
    "# !pip install --upgrade pandas==0.25.0"
   ]
  },
  {
   "cell_type": "markdown",
   "metadata": {},
   "source": [
    "<a id='wrangling'></a>\n",
    "## Data Wrangling\n",
    "### General Properties"
   ]
  },
  {
   "cell_type": "markdown",
   "metadata": {},
   "source": [
    "First, let's load the data and see the first couple of lines. This will help us see if we loaded the data correctly and not miss the delimiter. "
   ]
  },
  {
   "cell_type": "code",
   "execution_count": 3,
   "metadata": {},
   "outputs": [
    {
     "data": {
      "text/html": [
       "<div>\n",
       "<style scoped>\n",
       "    .dataframe tbody tr th:only-of-type {\n",
       "        vertical-align: middle;\n",
       "    }\n",
       "\n",
       "    .dataframe tbody tr th {\n",
       "        vertical-align: top;\n",
       "    }\n",
       "\n",
       "    .dataframe thead th {\n",
       "        text-align: right;\n",
       "    }\n",
       "</style>\n",
       "<table border=\"1\" class=\"dataframe\">\n",
       "  <thead>\n",
       "    <tr style=\"text-align: right;\">\n",
       "      <th></th>\n",
       "      <th>PatientId</th>\n",
       "      <th>AppointmentID</th>\n",
       "      <th>Gender</th>\n",
       "      <th>ScheduledDay</th>\n",
       "      <th>AppointmentDay</th>\n",
       "      <th>Age</th>\n",
       "      <th>Neighbourhood</th>\n",
       "      <th>Scholarship</th>\n",
       "      <th>Hipertension</th>\n",
       "      <th>Diabetes</th>\n",
       "      <th>Alcoholism</th>\n",
       "      <th>Handcap</th>\n",
       "      <th>SMS_received</th>\n",
       "      <th>No-show</th>\n",
       "    </tr>\n",
       "  </thead>\n",
       "  <tbody>\n",
       "    <tr>\n",
       "      <th>0</th>\n",
       "      <td>2.987250e+13</td>\n",
       "      <td>5642903</td>\n",
       "      <td>F</td>\n",
       "      <td>2016-04-29T18:38:08Z</td>\n",
       "      <td>2016-04-29T00:00:00Z</td>\n",
       "      <td>62</td>\n",
       "      <td>JARDIM DA PENHA</td>\n",
       "      <td>0</td>\n",
       "      <td>1</td>\n",
       "      <td>0</td>\n",
       "      <td>0</td>\n",
       "      <td>0</td>\n",
       "      <td>0</td>\n",
       "      <td>No</td>\n",
       "    </tr>\n",
       "    <tr>\n",
       "      <th>1</th>\n",
       "      <td>5.589978e+14</td>\n",
       "      <td>5642503</td>\n",
       "      <td>M</td>\n",
       "      <td>2016-04-29T16:08:27Z</td>\n",
       "      <td>2016-04-29T00:00:00Z</td>\n",
       "      <td>56</td>\n",
       "      <td>JARDIM DA PENHA</td>\n",
       "      <td>0</td>\n",
       "      <td>0</td>\n",
       "      <td>0</td>\n",
       "      <td>0</td>\n",
       "      <td>0</td>\n",
       "      <td>0</td>\n",
       "      <td>No</td>\n",
       "    </tr>\n",
       "    <tr>\n",
       "      <th>2</th>\n",
       "      <td>4.262962e+12</td>\n",
       "      <td>5642549</td>\n",
       "      <td>F</td>\n",
       "      <td>2016-04-29T16:19:04Z</td>\n",
       "      <td>2016-04-29T00:00:00Z</td>\n",
       "      <td>62</td>\n",
       "      <td>MATA DA PRAIA</td>\n",
       "      <td>0</td>\n",
       "      <td>0</td>\n",
       "      <td>0</td>\n",
       "      <td>0</td>\n",
       "      <td>0</td>\n",
       "      <td>0</td>\n",
       "      <td>No</td>\n",
       "    </tr>\n",
       "    <tr>\n",
       "      <th>3</th>\n",
       "      <td>8.679512e+11</td>\n",
       "      <td>5642828</td>\n",
       "      <td>F</td>\n",
       "      <td>2016-04-29T17:29:31Z</td>\n",
       "      <td>2016-04-29T00:00:00Z</td>\n",
       "      <td>8</td>\n",
       "      <td>PONTAL DE CAMBURI</td>\n",
       "      <td>0</td>\n",
       "      <td>0</td>\n",
       "      <td>0</td>\n",
       "      <td>0</td>\n",
       "      <td>0</td>\n",
       "      <td>0</td>\n",
       "      <td>No</td>\n",
       "    </tr>\n",
       "    <tr>\n",
       "      <th>4</th>\n",
       "      <td>8.841186e+12</td>\n",
       "      <td>5642494</td>\n",
       "      <td>F</td>\n",
       "      <td>2016-04-29T16:07:23Z</td>\n",
       "      <td>2016-04-29T00:00:00Z</td>\n",
       "      <td>56</td>\n",
       "      <td>JARDIM DA PENHA</td>\n",
       "      <td>0</td>\n",
       "      <td>1</td>\n",
       "      <td>1</td>\n",
       "      <td>0</td>\n",
       "      <td>0</td>\n",
       "      <td>0</td>\n",
       "      <td>No</td>\n",
       "    </tr>\n",
       "  </tbody>\n",
       "</table>\n",
       "</div>"
      ],
      "text/plain": [
       "      PatientId  AppointmentID Gender          ScheduledDay  \\\n",
       "0  2.987250e+13        5642903      F  2016-04-29T18:38:08Z   \n",
       "1  5.589978e+14        5642503      M  2016-04-29T16:08:27Z   \n",
       "2  4.262962e+12        5642549      F  2016-04-29T16:19:04Z   \n",
       "3  8.679512e+11        5642828      F  2016-04-29T17:29:31Z   \n",
       "4  8.841186e+12        5642494      F  2016-04-29T16:07:23Z   \n",
       "\n",
       "         AppointmentDay  Age      Neighbourhood  Scholarship  Hipertension  \\\n",
       "0  2016-04-29T00:00:00Z   62    JARDIM DA PENHA            0             1   \n",
       "1  2016-04-29T00:00:00Z   56    JARDIM DA PENHA            0             0   \n",
       "2  2016-04-29T00:00:00Z   62      MATA DA PRAIA            0             0   \n",
       "3  2016-04-29T00:00:00Z    8  PONTAL DE CAMBURI            0             0   \n",
       "4  2016-04-29T00:00:00Z   56    JARDIM DA PENHA            0             1   \n",
       "\n",
       "   Diabetes  Alcoholism  Handcap  SMS_received No-show  \n",
       "0         0           0        0             0      No  \n",
       "1         0           0        0             0      No  \n",
       "2         0           0        0             0      No  \n",
       "3         0           0        0             0      No  \n",
       "4         1           0        0             0      No  "
      ]
     },
     "execution_count": 3,
     "metadata": {},
     "output_type": "execute_result"
    }
   ],
   "source": [
    "# Load the data and see the first couple of lines. \n",
    "df = pd.read_csv('Database_No_show_appointments/noshowappointments-kagglev2-may-2016.csv')\n",
    "df.head()"
   ]
  },
  {
   "cell_type": "markdown",
   "metadata": {},
   "source": [
    "Let's then see the data-types for the different columns. "
   ]
  },
  {
   "cell_type": "code",
   "execution_count": 4,
   "metadata": {},
   "outputs": [
    {
     "name": "stdout",
     "output_type": "stream",
     "text": [
      "<class 'pandas.core.frame.DataFrame'>\n",
      "RangeIndex: 110527 entries, 0 to 110526\n",
      "Data columns (total 14 columns):\n",
      "PatientId         110527 non-null float64\n",
      "AppointmentID     110527 non-null int64\n",
      "Gender            110527 non-null object\n",
      "ScheduledDay      110527 non-null object\n",
      "AppointmentDay    110527 non-null object\n",
      "Age               110527 non-null int64\n",
      "Neighbourhood     110527 non-null object\n",
      "Scholarship       110527 non-null int64\n",
      "Hipertension      110527 non-null int64\n",
      "Diabetes          110527 non-null int64\n",
      "Alcoholism        110527 non-null int64\n",
      "Handcap           110527 non-null int64\n",
      "SMS_received      110527 non-null int64\n",
      "No-show           110527 non-null object\n",
      "dtypes: float64(1), int64(8), object(5)\n",
      "memory usage: 11.8+ MB\n"
     ]
    }
   ],
   "source": [
    "df.info()"
   ]
  },
  {
   "cell_type": "markdown",
   "metadata": {},
   "source": [
    "Hmmm, a couple of columns have an object data-type. Let's further investigate what `object` data-type means. "
   ]
  },
  {
   "cell_type": "code",
   "execution_count": 5,
   "metadata": {},
   "outputs": [
    {
     "name": "stdout",
     "output_type": "stream",
     "text": [
      "\n",
      "        Column Name:\tdtype\n",
      "        Gender\t<class 'str'>\n",
      "        ScheduledDay\t<class 'str'>\n",
      "        AppointmentDay\t<class 'str'>\n",
      "        Neighbourhood\t<class 'str'>\n",
      "        No-show\t<class 'str'>\n",
      "    \n"
     ]
    }
   ],
   "source": [
    "# Let's define a simple utility function and print out the actual data types for 'object' fields in the data frame\n",
    "def type_(df, columnName):\n",
    "    \"\"\"\n",
    "    Returns the data type of the column in the given Panda's data frame.\n",
    "    @Param:\n",
    "        df: pd.DataFrame\n",
    "        columnName: column name in the dataframe\n",
    "    @Returns:\n",
    "        the data type of the given column. \n",
    "        Will throw KeyError if the column name doesn't exist in the data frame.\n",
    "    \"\"\"\n",
    "    return type(df[columnName][0])\n",
    "\n",
    "print(f\"\"\"\n",
    "        Column Name:\\tdtype\n",
    "        Gender\\t{type_(df, 'Gender')}\n",
    "        ScheduledDay\\t{type_(df, 'ScheduledDay')}\n",
    "        AppointmentDay\\t{type_(df, 'AppointmentDay')}\n",
    "        Neighbourhood\\t{type_(df, 'Neighbourhood')}\n",
    "        No-show\\t{type_(df, 'No-show')}\n",
    "    \"\"\")"
   ]
  },
  {
   "cell_type": "markdown",
   "metadata": {},
   "source": [
    "All the columns showing `object` in the `df.info()` are containing `str` instances. `Gender`, `Neighbourhood` and `No-show` are fine to be represented by strings for this analysis. However, `ScheduledDay` and `AppointmentDay` can be converted to Python's datetime object so that it's easy for the analysis and different computations. I will do that later in the `Data Cleaning` section. "
   ]
  },
  {
   "cell_type": "markdown",
   "metadata": {},
   "source": [
    "Another interesting thing to notice from the output of `df.info()` is, there are no null values. The dataset has no missing values. "
   ]
  },
  {
   "cell_type": "markdown",
   "metadata": {},
   "source": [
    "Let's next check to see what values are set for columns containing numerical values."
   ]
  },
  {
   "cell_type": "code",
   "execution_count": 6,
   "metadata": {},
   "outputs": [
    {
     "data": {
      "text/html": [
       "<div>\n",
       "<style scoped>\n",
       "    .dataframe tbody tr th:only-of-type {\n",
       "        vertical-align: middle;\n",
       "    }\n",
       "\n",
       "    .dataframe tbody tr th {\n",
       "        vertical-align: top;\n",
       "    }\n",
       "\n",
       "    .dataframe thead th {\n",
       "        text-align: right;\n",
       "    }\n",
       "</style>\n",
       "<table border=\"1\" class=\"dataframe\">\n",
       "  <thead>\n",
       "    <tr style=\"text-align: right;\">\n",
       "      <th></th>\n",
       "      <th>PatientId</th>\n",
       "      <th>AppointmentID</th>\n",
       "      <th>Age</th>\n",
       "      <th>Scholarship</th>\n",
       "      <th>Hipertension</th>\n",
       "      <th>Diabetes</th>\n",
       "      <th>Alcoholism</th>\n",
       "      <th>Handcap</th>\n",
       "      <th>SMS_received</th>\n",
       "    </tr>\n",
       "  </thead>\n",
       "  <tbody>\n",
       "    <tr>\n",
       "      <th>count</th>\n",
       "      <td>1.105270e+05</td>\n",
       "      <td>1.105270e+05</td>\n",
       "      <td>110527.000000</td>\n",
       "      <td>110527.000000</td>\n",
       "      <td>110527.000000</td>\n",
       "      <td>110527.000000</td>\n",
       "      <td>110527.000000</td>\n",
       "      <td>110527.000000</td>\n",
       "      <td>110527.000000</td>\n",
       "    </tr>\n",
       "    <tr>\n",
       "      <th>mean</th>\n",
       "      <td>1.474963e+14</td>\n",
       "      <td>5.675305e+06</td>\n",
       "      <td>37.088874</td>\n",
       "      <td>0.098266</td>\n",
       "      <td>0.197246</td>\n",
       "      <td>0.071865</td>\n",
       "      <td>0.030400</td>\n",
       "      <td>0.022248</td>\n",
       "      <td>0.321026</td>\n",
       "    </tr>\n",
       "    <tr>\n",
       "      <th>std</th>\n",
       "      <td>2.560949e+14</td>\n",
       "      <td>7.129575e+04</td>\n",
       "      <td>23.110205</td>\n",
       "      <td>0.297675</td>\n",
       "      <td>0.397921</td>\n",
       "      <td>0.258265</td>\n",
       "      <td>0.171686</td>\n",
       "      <td>0.161543</td>\n",
       "      <td>0.466873</td>\n",
       "    </tr>\n",
       "    <tr>\n",
       "      <th>min</th>\n",
       "      <td>3.921784e+04</td>\n",
       "      <td>5.030230e+06</td>\n",
       "      <td>-1.000000</td>\n",
       "      <td>0.000000</td>\n",
       "      <td>0.000000</td>\n",
       "      <td>0.000000</td>\n",
       "      <td>0.000000</td>\n",
       "      <td>0.000000</td>\n",
       "      <td>0.000000</td>\n",
       "    </tr>\n",
       "    <tr>\n",
       "      <th>25%</th>\n",
       "      <td>4.172614e+12</td>\n",
       "      <td>5.640286e+06</td>\n",
       "      <td>18.000000</td>\n",
       "      <td>0.000000</td>\n",
       "      <td>0.000000</td>\n",
       "      <td>0.000000</td>\n",
       "      <td>0.000000</td>\n",
       "      <td>0.000000</td>\n",
       "      <td>0.000000</td>\n",
       "    </tr>\n",
       "    <tr>\n",
       "      <th>50%</th>\n",
       "      <td>3.173184e+13</td>\n",
       "      <td>5.680573e+06</td>\n",
       "      <td>37.000000</td>\n",
       "      <td>0.000000</td>\n",
       "      <td>0.000000</td>\n",
       "      <td>0.000000</td>\n",
       "      <td>0.000000</td>\n",
       "      <td>0.000000</td>\n",
       "      <td>0.000000</td>\n",
       "    </tr>\n",
       "    <tr>\n",
       "      <th>75%</th>\n",
       "      <td>9.439172e+13</td>\n",
       "      <td>5.725524e+06</td>\n",
       "      <td>55.000000</td>\n",
       "      <td>0.000000</td>\n",
       "      <td>0.000000</td>\n",
       "      <td>0.000000</td>\n",
       "      <td>0.000000</td>\n",
       "      <td>0.000000</td>\n",
       "      <td>1.000000</td>\n",
       "    </tr>\n",
       "    <tr>\n",
       "      <th>max</th>\n",
       "      <td>9.999816e+14</td>\n",
       "      <td>5.790484e+06</td>\n",
       "      <td>115.000000</td>\n",
       "      <td>1.000000</td>\n",
       "      <td>1.000000</td>\n",
       "      <td>1.000000</td>\n",
       "      <td>1.000000</td>\n",
       "      <td>4.000000</td>\n",
       "      <td>1.000000</td>\n",
       "    </tr>\n",
       "  </tbody>\n",
       "</table>\n",
       "</div>"
      ],
      "text/plain": [
       "          PatientId  AppointmentID            Age    Scholarship  \\\n",
       "count  1.105270e+05   1.105270e+05  110527.000000  110527.000000   \n",
       "mean   1.474963e+14   5.675305e+06      37.088874       0.098266   \n",
       "std    2.560949e+14   7.129575e+04      23.110205       0.297675   \n",
       "min    3.921784e+04   5.030230e+06      -1.000000       0.000000   \n",
       "25%    4.172614e+12   5.640286e+06      18.000000       0.000000   \n",
       "50%    3.173184e+13   5.680573e+06      37.000000       0.000000   \n",
       "75%    9.439172e+13   5.725524e+06      55.000000       0.000000   \n",
       "max    9.999816e+14   5.790484e+06     115.000000       1.000000   \n",
       "\n",
       "        Hipertension       Diabetes     Alcoholism        Handcap  \\\n",
       "count  110527.000000  110527.000000  110527.000000  110527.000000   \n",
       "mean        0.197246       0.071865       0.030400       0.022248   \n",
       "std         0.397921       0.258265       0.171686       0.161543   \n",
       "min         0.000000       0.000000       0.000000       0.000000   \n",
       "25%         0.000000       0.000000       0.000000       0.000000   \n",
       "50%         0.000000       0.000000       0.000000       0.000000   \n",
       "75%         0.000000       0.000000       0.000000       0.000000   \n",
       "max         1.000000       1.000000       1.000000       4.000000   \n",
       "\n",
       "        SMS_received  \n",
       "count  110527.000000  \n",
       "mean        0.321026  \n",
       "std         0.466873  \n",
       "min         0.000000  \n",
       "25%         0.000000  \n",
       "50%         0.000000  \n",
       "75%         1.000000  \n",
       "max         1.000000  "
      ]
     },
     "execution_count": 6,
     "metadata": {},
     "output_type": "execute_result"
    }
   ],
   "source": [
    "df.describe()"
   ]
  },
  {
   "cell_type": "markdown",
   "metadata": {},
   "source": [
    "As we can see, `Age` has a minimum of -1 (unacceptable for a human age) and a maximum of 115 (which is acceptable). Since the data type is `int64`, we are confident that we don't have floating number ages (something like 10.43). We will do some data cleanup on the `Age` column in the `Data Cleaning` section.\n",
    "\n",
    "The `Handcap` column in the above table shows values ranging from `min` of 0 to `max` of 4. The column descriptions in [Kaggle](https://www.kaggle.com/datasets/joniarroba/noshowappointments) states that `Handcap` contains a `True/False` value. `True/False` can be easily represented in `1/0` format (which is used for the other columns like `Scholarship`, `Diabetes` etc.). To be consistent, we can convert the values in `Handcap` to `1/0` from `0 to 4 range` in the `Data Cleaning` section. The different values and the count of rows can be seen using the following command. "
   ]
  },
  {
   "cell_type": "code",
   "execution_count": 7,
   "metadata": {},
   "outputs": [
    {
     "data": {
      "text/plain": [
       "0    108286\n",
       "1      2042\n",
       "2       183\n",
       "3        13\n",
       "4         3\n",
       "Name: Handcap, dtype: int64"
      ]
     },
     "execution_count": 7,
     "metadata": {},
     "output_type": "execute_result"
    }
   ],
   "source": [
    "df['Handcap'].value_counts()"
   ]
  },
  {
   "cell_type": "markdown",
   "metadata": {},
   "source": [
    "As can be seen, the column contains either 0, 1, 2, 3 or 4 as a value. It's 0 heavy though (large number of rows contain 0 compared to the others)! We can assume that the non-zero numbers are representing True and 0 is for False. This will be cleaned in the `Data Cleaning` section below. "
   ]
  },
  {
   "cell_type": "markdown",
   "metadata": {},
   "source": [
    "Now we have checked the numerical columns, let's check the string containing columns if they contain valid values. "
   ]
  },
  {
   "cell_type": "code",
   "execution_count": 8,
   "metadata": {},
   "outputs": [
    {
     "data": {
      "text/plain": [
       "array(['F', 'M'], dtype=object)"
      ]
     },
     "execution_count": 8,
     "metadata": {},
     "output_type": "execute_result"
    }
   ],
   "source": [
    "df['Gender'].unique()"
   ]
  },
  {
   "cell_type": "markdown",
   "metadata": {},
   "source": [
    "`Gender` contains only the two valid assumptions (`F` and `M`). This doesn't need any cleanup. "
   ]
  },
  {
   "cell_type": "code",
   "execution_count": 9,
   "metadata": {},
   "outputs": [
    {
     "data": {
      "text/plain": [
       "array(['No', 'Yes'], dtype=object)"
      ]
     },
     "execution_count": 9,
     "metadata": {},
     "output_type": "execute_result"
    }
   ],
   "source": [
    "df['No-show'].unique()"
   ]
  },
  {
   "cell_type": "markdown",
   "metadata": {},
   "source": [
    "`No-show` also contains the valid `Yes/No` values. This column don't need any cleanup. \n",
    "\n",
    "We can not easily determine if `Neighbourhood`, `AppointmentDay`, `ScheduledDay` contains valid values or not. What we will do later is try to convert the two date containing fields to Python's datetime objects and see if something fails for parsing issue (conversion error). If we find an error in the conversion process, then we can see what value that specific row was set and perform cleanup. "
   ]
  },
  {
   "cell_type": "markdown",
   "metadata": {},
   "source": [
    "\n",
    "### Data Cleaning"
   ]
  },
  {
   "cell_type": "markdown",
   "metadata": {},
   "source": [
    "After checking to see the first couple of lines of the data and the data-types of them, it's clear that the appointment and scheduled dates are represented as strings. Since these are holding datetimes, it's easier to manipulate and work with them as Python datetimes than strings. Hence, I am going to convert them to datetime here."
   ]
  },
  {
   "cell_type": "code",
   "execution_count": 10,
   "metadata": {},
   "outputs": [],
   "source": [
    "# Convert both ScheduledDay and AppointmentDay to Python's datetime objects.\n",
    "df[['ScheduledDay', 'AppointmentDay']] = df[['ScheduledDay', 'AppointmentDay']].apply(pd.to_datetime)"
   ]
  },
  {
   "cell_type": "markdown",
   "metadata": {},
   "source": [
    "Since the conversion above went successful without any issue, it answers our question that both `ScheduledDay` and `AppointmentDay` contain valid values (don't need data cleaning). \n",
    "\n",
    "One important thing to notice is, AppointmentDay is a date object (not datetime). This is known after the conversion (because it ended up not having time fields because all were 00:00:00 in the given input. It's only showing date, year and months."
   ]
  },
  {
   "cell_type": "markdown",
   "metadata": {},
   "source": [
    "The data given has some fields that are irrelevant for our analysis in trying to answer the different questions raised in the next section. For that reason, we can drop those fields here (drop the column). \n",
    "\n",
    "> Since `AppointmentId` is irrelevant for our analysis, I'm going to drop it. "
   ]
  },
  {
   "cell_type": "code",
   "execution_count": 11,
   "metadata": {},
   "outputs": [
    {
     "data": {
      "text/plain": [
       "Index(['PatientId', 'Gender', 'ScheduledDay', 'AppointmentDay', 'Age',\n",
       "       'Neighbourhood', 'Scholarship', 'Hipertension', 'Diabetes',\n",
       "       'Alcoholism', 'Handcap', 'SMS_received', 'No-show'],\n",
       "      dtype='object')"
      ]
     },
     "execution_count": 11,
     "metadata": {},
     "output_type": "execute_result"
    }
   ],
   "source": [
    "# Drop AppointmentId column\n",
    "df.drop(['AppointmentID'], axis=1, inplace=True)\n",
    "# To verify the columns available\n",
    "df.columns"
   ]
  },
  {
   "cell_type": "markdown",
   "metadata": {},
   "source": [
    "In the exploration phase, we have seen the minimum value for the `Age` column as -1, which is not valid. Let's  further investigate and clean-up this data (either remove or change the age value). First, let's see the number of rows with Age -1. "
   ]
  },
  {
   "cell_type": "code",
   "execution_count": 12,
   "metadata": {},
   "outputs": [
    {
     "data": {
      "text/plain": [
       "1"
      ]
     },
     "execution_count": 12,
     "metadata": {},
     "output_type": "execute_result"
    }
   ],
   "source": [
    "# Let's count the number of rows with Age = -1.\n",
    "df[df['Age'] == -1]['Age'].count()"
   ]
  },
  {
   "cell_type": "markdown",
   "metadata": {},
   "source": [
    "Good, it's only 1 row. Let's see what it contains. "
   ]
  },
  {
   "cell_type": "code",
   "execution_count": 13,
   "metadata": {},
   "outputs": [
    {
     "data": {
      "text/html": [
       "<div>\n",
       "<style scoped>\n",
       "    .dataframe tbody tr th:only-of-type {\n",
       "        vertical-align: middle;\n",
       "    }\n",
       "\n",
       "    .dataframe tbody tr th {\n",
       "        vertical-align: top;\n",
       "    }\n",
       "\n",
       "    .dataframe thead th {\n",
       "        text-align: right;\n",
       "    }\n",
       "</style>\n",
       "<table border=\"1\" class=\"dataframe\">\n",
       "  <thead>\n",
       "    <tr style=\"text-align: right;\">\n",
       "      <th></th>\n",
       "      <th>PatientId</th>\n",
       "      <th>Gender</th>\n",
       "      <th>ScheduledDay</th>\n",
       "      <th>AppointmentDay</th>\n",
       "      <th>Age</th>\n",
       "      <th>Neighbourhood</th>\n",
       "      <th>Scholarship</th>\n",
       "      <th>Hipertension</th>\n",
       "      <th>Diabetes</th>\n",
       "      <th>Alcoholism</th>\n",
       "      <th>Handcap</th>\n",
       "      <th>SMS_received</th>\n",
       "      <th>No-show</th>\n",
       "    </tr>\n",
       "  </thead>\n",
       "  <tbody>\n",
       "    <tr>\n",
       "      <th>99832</th>\n",
       "      <td>4.659432e+14</td>\n",
       "      <td>F</td>\n",
       "      <td>2016-06-06 08:58:13</td>\n",
       "      <td>2016-06-06</td>\n",
       "      <td>-1</td>\n",
       "      <td>ROMÃO</td>\n",
       "      <td>0</td>\n",
       "      <td>0</td>\n",
       "      <td>0</td>\n",
       "      <td>0</td>\n",
       "      <td>0</td>\n",
       "      <td>0</td>\n",
       "      <td>No</td>\n",
       "    </tr>\n",
       "  </tbody>\n",
       "</table>\n",
       "</div>"
      ],
      "text/plain": [
       "          PatientId Gender        ScheduledDay AppointmentDay  Age  \\\n",
       "99832  4.659432e+14      F 2016-06-06 08:58:13     2016-06-06   -1   \n",
       "\n",
       "      Neighbourhood  Scholarship  Hipertension  Diabetes  Alcoholism  Handcap  \\\n",
       "99832         ROMÃO            0             0         0           0        0   \n",
       "\n",
       "       SMS_received No-show  \n",
       "99832             0      No  "
      ]
     },
     "execution_count": 13,
     "metadata": {},
     "output_type": "execute_result"
    }
   ],
   "source": [
    "df[df['Age'] == -1]"
   ]
  },
  {
   "cell_type": "markdown",
   "metadata": {},
   "source": [
    "All the other fields look to have valid values. However, we can't infer the `Age` by looking at the other fields and for that, we can drop this row from the data frame. "
   ]
  },
  {
   "cell_type": "code",
   "execution_count": 14,
   "metadata": {},
   "outputs": [],
   "source": [
    "# Drop data with Age = -1. \n",
    "df.drop(df[df['Age'] == -1].index, inplace=True)"
   ]
  },
  {
   "cell_type": "markdown",
   "metadata": {},
   "source": [
    "If you see the boolean fields, most of them are represented as either 1 or 0 depending on if they are true or false respectively. However, this is not the case for `Handcap` and `No-show`. The `Handcap` column has one of the values between 0 and 4 (both ends inclusive). Assuming 0 is for false, we can convert the rest (1 <= x <= 4) to 1 to standardize our representation. This is assuming non-zero numbers represent True and 0 is for False. To recap, "
   ]
  },
  {
   "cell_type": "code",
   "execution_count": 15,
   "metadata": {},
   "outputs": [
    {
     "name": "stdout",
     "output_type": "stream",
     "text": [
      "The counts \n",
      "0    108285\n",
      "1      2042\n",
      "2       183\n",
      "3        13\n",
      "4         3\n",
      "Name: Handcap, dtype: int64\n"
     ]
    },
    {
     "data": {
      "image/png": "[encoded data removed]",
      "text/plain": [
       "<matplotlib.figure.Figure at 0x7f64da42cf28>"
      ]
     },
     "metadata": {
      "needs_background": "light"
     },
     "output_type": "display_data"
    }
   ],
   "source": [
    "# A function to analyze handcap column in numbers and bar graph. \n",
    "def analyze_handcap_values (df):\n",
    "    handcap_values = df['Handcap'].value_counts()\n",
    "    print(f'The counts \\n{handcap_values}')\n",
    "    handcap_values.plot(kind='bar', figsize=(10,10), color='green', label='Handcap')\n",
    "    plt.title('Handcap Values In The Dataset')\n",
    "    plt.xlabel('Handcap values')\n",
    "    plt.ylabel('# of Appointments')\n",
    "    plt.legend();\n",
    "    \n",
    "analyze_handcap_values(df)"
   ]
  },
  {
   "cell_type": "markdown",
   "metadata": {},
   "source": [
    "The above diagram shows the `Handcap` field is 0 heavy, while very little data shows values more than 1 (not visible in the barchart, hence check the printed values above the graph to see the exact counts). Next, let's consolidate non-zero values into 1. "
   ]
  },
  {
   "cell_type": "code",
   "execution_count": 16,
   "metadata": {},
   "outputs": [],
   "source": [
    "# Override non-zero values of Handcap column with 1.\n",
    "df.loc[df['Handcap'] > 0, 'Handcap'] = 1"
   ]
  },
  {
   "cell_type": "code",
   "execution_count": 17,
   "metadata": {},
   "outputs": [
    {
     "name": "stdout",
     "output_type": "stream",
     "text": [
      "The counts \n",
      "0    108285\n",
      "1      2241\n",
      "Name: Handcap, dtype: int64\n"
     ]
    },
    {
     "data": {
      "image/png": "[encoded data removed]",
      "text/plain": [
       "<matplotlib.figure.Figure at 0x7f64da17c6a0>"
      ]
     },
     "metadata": {
      "needs_background": "light"
     },
     "output_type": "display_data"
    }
   ],
   "source": [
    "# Let's see if the consolidation worked or not. \n",
    "analyze_handcap_values(df)"
   ]
  },
  {
   "cell_type": "markdown",
   "metadata": {},
   "source": [
    "Now, it's showing as either 0 or 1. "
   ]
  },
  {
   "cell_type": "markdown",
   "metadata": {},
   "source": [
    "We can also change the values in the `No-Show` column to 1 or 0 or completely change the column name for ease. However, I still find it clear to explain using the current setting and hence I'm going to leave it as is. "
   ]
  },
  {
   "cell_type": "markdown",
   "metadata": {},
   "source": [
    "Finally, we can standardize the column names for easy access. I usually use [camel case](https://en.wikipedia.org/wiki/Camel_case) for my column names. Let's follow that and convert all the remaining column names. I also corrected a possible spelling error in `Handcap` to `HandiCap` (minor correction)."
   ]
  },
  {
   "cell_type": "code",
   "execution_count": 18,
   "metadata": {},
   "outputs": [],
   "source": [
    "column_names = ['PatientId', 'Gender', 'ScheduledDay', 'AppointmentDay', 'Age', \n",
    "                'Neighbourhood', 'Scholarship', 'Hipertension', 'Diabetes', \n",
    "                'Alcoholism', 'Handicap', 'SmsReceived', 'NoShow']\n",
    "df.columns = column_names"
   ]
  },
  {
   "cell_type": "markdown",
   "metadata": {},
   "source": [
    "<a id='eda'></a>\n",
    "## Exploratory Data Analysis \n",
    "### Does sending an SMS to patients improve show up rate? "
   ]
  },
  {
   "cell_type": "markdown",
   "metadata": {},
   "source": [
    "To see the relationship between SMS receival and appointment show up, let's group the data with `NoShow` and `SmsReceived` columns and count the number of row occurrences for each. Then let's plot a bar chat to see their proportion amongst the total data. "
   ]
  },
  {
   "cell_type": "code",
   "execution_count": 19,
   "metadata": {},
   "outputs": [
    {
     "data": {
      "image/png": "[encoded data removed]",
      "text/plain": [
       "<matplotlib.figure.Figure at 0x7f64da17c780>"
      ]
     },
     "metadata": {
      "needs_background": "light"
     },
     "output_type": "display_data"
    }
   ],
   "source": [
    "# Group by NoShow and SmsReceived to see the correlation between the two. \n",
    "attendance_with_sms_info = df.groupby(['NoShow', 'SmsReceived'])['Gender'].count()\n",
    "attendance_with_sms_info.plot(kind='bar', color='b', label='Attendance and SMS')\n",
    "plt.ylabel('Number Of Appointments')\n",
    "plt.xlabel('(Missed Attendance?, SMS Received[1 = Yes, 0 =  No])')\n",
    "plt.title('SMS Received VS No Show')\n",
    "plt.legend();"
   ]
  },
  {
   "cell_type": "markdown",
   "metadata": {},
   "source": [
    "The bar chart shows the number of appointments and how many of them were missed and not, and further illustrates if people received SMS for that appointment or not. It shows most appointments were attended even without a reminder SMS. But the graph doesn't depict the percentage of people and makes it hard to see and and infer for the smaller values (the ones to the right are too small compared to the first one from the left). Let's draw a more descriptive plot, this time showing how many percentile of the appointments were attended with SMS notification amongst the total attended schedules. "
   ]
  },
  {
   "cell_type": "code",
   "execution_count": 20,
   "metadata": {},
   "outputs": [
    {
     "data": {
      "image/png": "[encoded data removed]",
      "text/plain": [
       "<matplotlib.figure.Figure at 0x7f64da065da0>"
      ]
     },
     "metadata": {
      "needs_background": "light"
     },
     "output_type": "display_data"
    }
   ],
   "source": [
    "''' Divide the data into two:\n",
    "             1. Who showed up (with or without SMS)\n",
    "             2. Who missed it (with or without SMS)\n",
    "    Then calculate the percentage of people who showed up and\n",
    "            - received SMS (count_of_showed_up_and_received_sms/count_of_people_who_showed_up)\n",
    "            - Didn't receive SMS \n",
    "    Do the same for people who missed their appointment.\n",
    "'''\n",
    "# Take any one column because the rest will contain the same information (I chose Gender).\n",
    "showed_up = attendance_with_sms_info.loc['No']/attendance_with_sms_info.loc['No'].sum() * 100\n",
    "missed = attendance_with_sms_info.loc['Yes']/attendance_with_sms_info.loc['Yes'].sum() * 100\n",
    "xticks = ['No', 'Yes']\n",
    "plt.bar([1, 2], showed_up, label=\"Attended\", color='g', alpha=0.7)\n",
    "plt.bar([3, 4], missed, label=\"Missed\", color='r', alpha=0.7)\n",
    "plt.xlabel(\"SMS Received? (Yes/No)\")\n",
    "plt.ylabel(\"# Of Appointments (100%)\")\n",
    "plt.title(\"Attendance Based On Reminder SMS\")\n",
    "plt.xticks([1, 2, 3, 4], xticks*2)\n",
    "plt.legend();"
   ]
  },
  {
   "cell_type": "markdown",
   "metadata": {},
   "source": [
    "What do we see from the diagram above? \n",
    "\n",
    "> The Number of people who showed up for their appointment without any SMS received far exceeds (~70%) those who showed up and were interacting with the health institution via SMS (~30%). \n",
    "\n",
    "> On the contrary, about 55% of patients who missed their appointments didn't receive any SMS from their healthcare provider, while about 45% did but missed it anyway. "
   ]
  },
  {
   "cell_type": "markdown",
   "metadata": {},
   "source": [
    "### Which age group showed up the most?"
   ]
  },
  {
   "cell_type": "markdown",
   "metadata": {},
   "source": [
    "Let's first see the distribution of `Age` using histogram."
   ]
  },
  {
   "cell_type": "code",
   "execution_count": 21,
   "metadata": {},
   "outputs": [
    {
     "data": {
      "image/png": "[encoded data removed]",
      "text/plain": [
       "<matplotlib.figure.Figure at 0x7f64d6fc0a90>"
      ]
     },
     "metadata": {
      "needs_background": "light"
     },
     "output_type": "display_data"
    }
   ],
   "source": [
    "df['Age'].hist(figsize=(10, 10), label='Age VS. # of Appointments')\n",
    "plt.xlabel('Age')\n",
    "plt.ylabel('# Of Appointments')\n",
    "plt.title('Age Histogram')\n",
    "plt.legend();"
   ]
  },
  {
   "cell_type": "markdown",
   "metadata": {},
   "source": [
    "From the above histogram, we can see that it's densely populated to the left (skewed to the right). I can make the following four categories of ages to better analyze the pattern:\n",
    "\n",
    "- Kid: Aged between 0 and 17 (both inclusive)\n",
    "- Young: Aged between 18 and 36 (both inclusive)\n",
    "- Adult: Aged between 37 and 54 (both inclusive)\n",
    "- Senior: Aged above 54 (not inclusive)\n",
    "\n",
    "With the above 4 categories, the data will be split about evenly. We can store this newly computed value in the dataframe for reuse later. Let's do that in code. "
   ]
  },
  {
   "cell_type": "code",
   "execution_count": 22,
   "metadata": {},
   "outputs": [
    {
     "data": {
      "image/png": "[encoded data removed]",
      "text/plain": [
       "<matplotlib.figure.Figure at 0x7f64d6cb6240>"
      ]
     },
     "metadata": {
      "needs_background": "light"
     },
     "output_type": "display_data"
    }
   ],
   "source": [
    "age_labels = ['Kid', 'Young', 'Adult', 'Senior']\n",
    "df['AgeGroup'] = pd.cut(df['Age'], bins=[-1, 17, 36, 54, 120], labels=age_labels)\n",
    "# To see the split ratio (number of people in an age group), \n",
    "df.groupby('AgeGroup').count()['Age'].plot(kind='bar', color='dimgray', label='Age Group', figsize=(12, 12))\n",
    "plt.xlabel('Age Groups')\n",
    "plt.ylabel('# Of Appointments')\n",
    "plt.title('Different Age Groups vs # of Appointments')\n",
    "plt.legend();"
   ]
  },
  {
   "cell_type": "markdown",
   "metadata": {},
   "source": [
    "Now we have divided the dataset into 4 almost equal parts by age, let's get the number of people who showed up (and missed) per age group and visualize that. "
   ]
  },
  {
   "cell_type": "code",
   "execution_count": 23,
   "metadata": {},
   "outputs": [
    {
     "data": {
      "image/png": "[encoded data removed]",
      "text/plain": [
       "<matplotlib.figure.Figure at 0x7f64da1524e0>"
      ]
     },
     "metadata": {
      "needs_background": "light"
     },
     "output_type": "display_data"
    }
   ],
   "source": [
    "attendance_by_age_group = df.groupby(['AgeGroup', 'NoShow']).count()['Age']\n",
    "label = '# Of Appointments for a specific Age Group and No Show'\n",
    "attendance_by_age_group.plot(kind='bar', label=label, figsize=(10, 10))\n",
    "plt.ylabel('# of appointments')\n",
    "plt.xlabel('(Age Group, No Show)')\n",
    "plt.title('Age Group VS No Show')\n",
    "plt.legend(loc='upper left');"
   ]
  },
  {
   "cell_type": "markdown",
   "metadata": {},
   "source": [
    "The above diagram shows, \n",
    "\n",
    "- More senior people were attentive of their health checkups (because close to 25K appointments were attended and less than 5K were missed)\n",
    "- More young people were missing their appointments (because slightly more than 5K appointments were missed by young people)."
   ]
  },
  {
   "cell_type": "markdown",
   "metadata": {},
   "source": [
    "<a id='conclusions'></a>\n",
    "## Conclusions\n",
    "\n",
    "### Summary \n",
    "To summarize, \n",
    "><b>1</b>. The Number of people who showed up for their appointment without any SMS received far exceeds (~70%) those who showed up and were interacting with the health institution via SMS (~30%).\n",
    "\n",
    ">> On the contrary, about 55% of patients who missed their appointments didn't receive any SMS from their healthcare provider, while about 45% did but missed it anyway.\n",
    "\n",
    "> This can be a pointer to further investigate the effectivness of sending SMS to patients and the relevance of this investment. Additional information like the date the SMS was sent, the number of SMS sent to a specific patient will be helpful to investigate if reminding about an appointment using SMS is effective or not. \n",
    "\n",
    "><b>2</b>. More senior people were attentive of their health checkups compared to other age groups classified in this analysis. On the other hand, more young people were missing their appointments. \n",
    "\n",
    "### Limitations\n",
    "The first limitation is, the dataset doesn't specifiy if the SMS was sent to the patients before the appointment day or close to it. If the date for the notification was available, it would be easy to tell if sending reminders close to the appointment date helps with showup numbers. \n",
    "\n",
    "The Second limitation is, the given AppointmentDay field is a date field only. Usually, appointments will have the date and time associated. This would have made it easy to analyze if the appointment times were out of business hours or not. "
   ]
  },
  {
   "cell_type": "code",
   "execution_count": 24,
   "metadata": {},
   "outputs": [
    {
     "data": {
      "text/plain": [
       "0"
      ]
     },
     "execution_count": 24,
     "metadata": {},
     "output_type": "execute_result"
    }
   ],
   "source": [
    "# For generating the HTML file for submission. \n",
    "from subprocess import call\n",
    "call(['python', '-m', 'nbconvert', 'Investigate_a_Dataset.ipynb'])"
   ]
  },
  {
   "cell_type": "code",
   "execution_count": null,
   "metadata": {},
   "outputs": [],
   "source": []
  }
 ],
 "metadata": {
  "kernelspec": {
   "display_name": "Python 3",
   "language": "python",
   "name": "python3"
  },
  "language_info": {
   "codemirror_mode": {
    "name": "ipython",
    "version": 3
   },
   "file_extension": ".py",
   "mimetype": "text/x-python",
   "name": "python",
   "nbconvert_exporter": "python",
   "pygments_lexer": "ipython3",
   "version": "3.6.3"
  }
 },
 "nbformat": 4,
 "nbformat_minor": 2
}
